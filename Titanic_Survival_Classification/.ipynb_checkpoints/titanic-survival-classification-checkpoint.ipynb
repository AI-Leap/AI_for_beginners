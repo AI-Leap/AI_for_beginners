{
 "cells": [
  {
   "cell_type": "markdown",
   "metadata": {},
   "source": [
    "# Import Libraries"
   ]
  },
  {
   "cell_type": "code",
   "execution_count": 5,
   "metadata": {
    "_cell_guid": "b1076dfc-b9ad-4769-8c92-a6c4dae69d19",
    "_uuid": "8f2839f25d086af736a60e9eeb907d3b93b6e0e5",
    "execution": {
     "iopub.execute_input": "2021-08-15T11:09:28.329393Z",
     "iopub.status.busy": "2021-08-15T11:09:28.329051Z",
     "iopub.status.idle": "2021-08-15T11:09:35.227861Z",
     "shell.execute_reply": "2021-08-15T11:09:35.226872Z",
     "shell.execute_reply.started": "2021-08-15T11:09:28.329364Z"
    }
   },
   "outputs": [],
   "source": [
    "import numpy as np\n",
    "import pandas as pd\n",
    "import os\n",
    "pd.plotting.register_matplotlib_converters()\n",
    "import matplotlib.pyplot as plt\n",
    "%matplotlib inline\n",
    "import seaborn as sns\n",
    "plt.style.use(\"seaborn-darkgrid\")\n",
    "\n",
    "import warnings \n",
    "warnings.filterwarnings(\"ignore\")\n",
    "\n",
    "from sklearn.model_selection import train_test_split, StratifiedKFold, GridSearchCV\n",
    "from sklearn.linear_model import LogisticRegression\n",
    "from sklearn.svm import SVC\n",
    "from sklearn.ensemble import RandomForestClassifier, VotingClassifier\n",
    "from sklearn.neighbors import KNeighborsClassifier\n",
    "from sklearn.tree import DecisionTreeClassifier\n",
    "from sklearn.metrics import accuracy_score, f1_score, classification_report\n",
    "\n",
    "from keras import callbacks\n",
    "from keras.models import Sequential\n",
    "from keras.layers import Dense, Dropout, Input, BatchNormalization\n",
    "from keras import optimizers"
   ]
  },
  {
   "cell_type": "markdown",
   "metadata": {},
   "source": [
    "# Load Dataset"
   ]
  },
  {
   "cell_type": "code",
   "execution_count": 6,
   "metadata": {
    "execution": {
     "iopub.execute_input": "2021-08-15T11:09:41.860154Z",
     "iopub.status.busy": "2021-08-15T11:09:41.859771Z",
     "iopub.status.idle": "2021-08-15T11:09:41.866695Z",
     "shell.execute_reply": "2021-08-15T11:09:41.865777Z",
     "shell.execute_reply.started": "2021-08-15T11:09:41.860113Z"
    }
   },
   "outputs": [],
   "source": [
    "def read_data(path):\n",
    "    '''\n",
    "    Read csv file and return pandas dataframe\n",
    "    Input:\n",
    "        path: csv file path\n",
    "    Output:\n",
    "        data: pandas dataframe\n",
    "    '''\n",
    "    data = pd.read_csv(path)\n",
    "    return data"
   ]
  },
  {
   "cell_type": "code",
   "execution_count": 7,
   "metadata": {
    "execution": {
     "iopub.execute_input": "2021-08-15T11:09:42.511608Z",
     "iopub.status.busy": "2021-08-15T11:09:42.511241Z",
     "iopub.status.idle": "2021-08-15T11:09:42.546686Z",
     "shell.execute_reply": "2021-08-15T11:09:42.545671Z",
     "shell.execute_reply.started": "2021-08-15T11:09:42.511573Z"
    }
   },
   "outputs": [],
   "source": [
    "df_train = read_data('/kaggle/input/titanic/train.csv')\n",
    "df_test = read_data('/kaggle/input/titanic/test.csv')\n",
    "test_passengerId = df_test[\"PassengerId\"]"
   ]
  },
  {
   "cell_type": "code",
   "execution_count": 8,
   "metadata": {
    "execution": {
     "iopub.execute_input": "2021-08-15T11:09:43.006144Z",
     "iopub.status.busy": "2021-08-15T11:09:43.005710Z",
     "iopub.status.idle": "2021-08-15T11:09:43.015418Z",
     "shell.execute_reply": "2021-08-15T11:09:43.014251Z",
     "shell.execute_reply.started": "2021-08-15T11:09:43.006111Z"
    }
   },
   "outputs": [
    {
     "data": {
      "text/plain": [
       "((891, 12), (418, 11))"
      ]
     },
     "execution_count": 8,
     "metadata": {},
     "output_type": "execute_result"
    }
   ],
   "source": [
    "#shape of the dataset\n",
    "df_train.shape, df_test.shape"
   ]
  },
  {
   "cell_type": "code",
   "execution_count": 9,
   "metadata": {
    "execution": {
     "iopub.execute_input": "2021-08-15T11:09:43.481102Z",
     "iopub.status.busy": "2021-08-15T11:09:43.480721Z",
     "iopub.status.idle": "2021-08-15T11:09:43.492966Z",
     "shell.execute_reply": "2021-08-15T11:09:43.492007Z",
     "shell.execute_reply.started": "2021-08-15T11:09:43.481071Z"
    }
   },
   "outputs": [],
   "source": [
    "df_train_len = len(df_train)\n",
    "df_train = pd.concat([df_train,df_test],axis = 0).reset_index(drop = True)"
   ]
  },
  {
   "cell_type": "markdown",
   "metadata": {},
   "source": [
    "# Data Exploratory"
   ]
  },
  {
   "cell_type": "code",
   "execution_count": 10,
   "metadata": {
    "execution": {
     "iopub.execute_input": "2021-08-15T11:09:44.376317Z",
     "iopub.status.busy": "2021-08-15T11:09:44.375795Z",
     "iopub.status.idle": "2021-08-15T11:09:44.401035Z",
     "shell.execute_reply": "2021-08-15T11:09:44.400325Z",
     "shell.execute_reply.started": "2021-08-15T11:09:44.376286Z"
    }
   },
   "outputs": [
    {
     "data": {
      "text/html": [
       "<div>\n",
       "<style scoped>\n",
       "    .dataframe tbody tr th:only-of-type {\n",
       "        vertical-align: middle;\n",
       "    }\n",
       "\n",
       "    .dataframe tbody tr th {\n",
       "        vertical-align: top;\n",
       "    }\n",
       "\n",
       "    .dataframe thead th {\n",
       "        text-align: right;\n",
       "    }\n",
       "</style>\n",
       "<table border=\"1\" class=\"dataframe\">\n",
       "  <thead>\n",
       "    <tr style=\"text-align: right;\">\n",
       "      <th></th>\n",
       "      <th>PassengerId</th>\n",
       "      <th>Survived</th>\n",
       "      <th>Pclass</th>\n",
       "      <th>Name</th>\n",
       "      <th>Sex</th>\n",
       "      <th>Age</th>\n",
       "      <th>SibSp</th>\n",
       "      <th>Parch</th>\n",
       "      <th>Ticket</th>\n",
       "      <th>Fare</th>\n",
       "      <th>Cabin</th>\n",
       "      <th>Embarked</th>\n",
       "    </tr>\n",
       "  </thead>\n",
       "  <tbody>\n",
       "    <tr>\n",
       "      <th>0</th>\n",
       "      <td>1</td>\n",
       "      <td>0.0</td>\n",
       "      <td>3</td>\n",
       "      <td>Braund, Mr. Owen Harris</td>\n",
       "      <td>male</td>\n",
       "      <td>22.0</td>\n",
       "      <td>1</td>\n",
       "      <td>0</td>\n",
       "      <td>A/5 21171</td>\n",
       "      <td>7.2500</td>\n",
       "      <td>NaN</td>\n",
       "      <td>S</td>\n",
       "    </tr>\n",
       "    <tr>\n",
       "      <th>1</th>\n",
       "      <td>2</td>\n",
       "      <td>1.0</td>\n",
       "      <td>1</td>\n",
       "      <td>Cumings, Mrs. John Bradley (Florence Briggs Th...</td>\n",
       "      <td>female</td>\n",
       "      <td>38.0</td>\n",
       "      <td>1</td>\n",
       "      <td>0</td>\n",
       "      <td>PC 17599</td>\n",
       "      <td>71.2833</td>\n",
       "      <td>C85</td>\n",
       "      <td>C</td>\n",
       "    </tr>\n",
       "    <tr>\n",
       "      <th>2</th>\n",
       "      <td>3</td>\n",
       "      <td>1.0</td>\n",
       "      <td>3</td>\n",
       "      <td>Heikkinen, Miss. Laina</td>\n",
       "      <td>female</td>\n",
       "      <td>26.0</td>\n",
       "      <td>0</td>\n",
       "      <td>0</td>\n",
       "      <td>STON/O2. 3101282</td>\n",
       "      <td>7.9250</td>\n",
       "      <td>NaN</td>\n",
       "      <td>S</td>\n",
       "    </tr>\n",
       "    <tr>\n",
       "      <th>3</th>\n",
       "      <td>4</td>\n",
       "      <td>1.0</td>\n",
       "      <td>1</td>\n",
       "      <td>Futrelle, Mrs. Jacques Heath (Lily May Peel)</td>\n",
       "      <td>female</td>\n",
       "      <td>35.0</td>\n",
       "      <td>1</td>\n",
       "      <td>0</td>\n",
       "      <td>113803</td>\n",
       "      <td>53.1000</td>\n",
       "      <td>C123</td>\n",
       "      <td>S</td>\n",
       "    </tr>\n",
       "    <tr>\n",
       "      <th>4</th>\n",
       "      <td>5</td>\n",
       "      <td>0.0</td>\n",
       "      <td>3</td>\n",
       "      <td>Allen, Mr. William Henry</td>\n",
       "      <td>male</td>\n",
       "      <td>35.0</td>\n",
       "      <td>0</td>\n",
       "      <td>0</td>\n",
       "      <td>373450</td>\n",
       "      <td>8.0500</td>\n",
       "      <td>NaN</td>\n",
       "      <td>S</td>\n",
       "    </tr>\n",
       "  </tbody>\n",
       "</table>\n",
       "</div>"
      ],
      "text/plain": [
       "   PassengerId  Survived  Pclass  \\\n",
       "0            1       0.0       3   \n",
       "1            2       1.0       1   \n",
       "2            3       1.0       3   \n",
       "3            4       1.0       1   \n",
       "4            5       0.0       3   \n",
       "\n",
       "                                                Name     Sex   Age  SibSp  \\\n",
       "0                            Braund, Mr. Owen Harris    male  22.0      1   \n",
       "1  Cumings, Mrs. John Bradley (Florence Briggs Th...  female  38.0      1   \n",
       "2                             Heikkinen, Miss. Laina  female  26.0      0   \n",
       "3       Futrelle, Mrs. Jacques Heath (Lily May Peel)  female  35.0      1   \n",
       "4                           Allen, Mr. William Henry    male  35.0      0   \n",
       "\n",
       "   Parch            Ticket     Fare Cabin Embarked  \n",
       "0      0         A/5 21171   7.2500   NaN        S  \n",
       "1      0          PC 17599  71.2833   C85        C  \n",
       "2      0  STON/O2. 3101282   7.9250   NaN        S  \n",
       "3      0            113803  53.1000  C123        S  \n",
       "4      0            373450   8.0500   NaN        S  "
      ]
     },
     "execution_count": 10,
     "metadata": {},
     "output_type": "execute_result"
    }
   ],
   "source": [
    "df_train.head()"
   ]
  },
  {
   "cell_type": "code",
   "execution_count": 11,
   "metadata": {
    "execution": {
     "iopub.execute_input": "2021-08-15T11:09:44.742526Z",
     "iopub.status.busy": "2021-08-15T11:09:44.740407Z",
     "iopub.status.idle": "2021-08-15T11:09:44.747823Z",
     "shell.execute_reply": "2021-08-15T11:09:44.747130Z",
     "shell.execute_reply.started": "2021-08-15T11:09:44.742486Z"
    }
   },
   "outputs": [
    {
     "data": {
      "text/plain": [
       "(1309, 12)"
      ]
     },
     "execution_count": 11,
     "metadata": {},
     "output_type": "execute_result"
    }
   ],
   "source": [
    "#shape of the dataset(concat dataset)\n",
    "df_train.shape"
   ]
  },
  {
   "cell_type": "code",
   "execution_count": 12,
   "metadata": {
    "execution": {
     "iopub.execute_input": "2021-08-15T11:09:45.014369Z",
     "iopub.status.busy": "2021-08-15T11:09:45.013884Z",
     "iopub.status.idle": "2021-08-15T11:09:45.048527Z",
     "shell.execute_reply": "2021-08-15T11:09:45.047816Z",
     "shell.execute_reply.started": "2021-08-15T11:09:45.014338Z"
    }
   },
   "outputs": [
    {
     "data": {
      "text/html": [
       "<div>\n",
       "<style scoped>\n",
       "    .dataframe tbody tr th:only-of-type {\n",
       "        vertical-align: middle;\n",
       "    }\n",
       "\n",
       "    .dataframe tbody tr th {\n",
       "        vertical-align: top;\n",
       "    }\n",
       "\n",
       "    .dataframe thead th {\n",
       "        text-align: right;\n",
       "    }\n",
       "</style>\n",
       "<table border=\"1\" class=\"dataframe\">\n",
       "  <thead>\n",
       "    <tr style=\"text-align: right;\">\n",
       "      <th></th>\n",
       "      <th>PassengerId</th>\n",
       "      <th>Survived</th>\n",
       "      <th>Pclass</th>\n",
       "      <th>Age</th>\n",
       "      <th>SibSp</th>\n",
       "      <th>Parch</th>\n",
       "      <th>Fare</th>\n",
       "    </tr>\n",
       "  </thead>\n",
       "  <tbody>\n",
       "    <tr>\n",
       "      <th>count</th>\n",
       "      <td>1309.000000</td>\n",
       "      <td>891.000000</td>\n",
       "      <td>1309.000000</td>\n",
       "      <td>1046.000000</td>\n",
       "      <td>1309.000000</td>\n",
       "      <td>1309.000000</td>\n",
       "      <td>1308.000000</td>\n",
       "    </tr>\n",
       "    <tr>\n",
       "      <th>mean</th>\n",
       "      <td>655.000000</td>\n",
       "      <td>0.383838</td>\n",
       "      <td>2.294882</td>\n",
       "      <td>29.881138</td>\n",
       "      <td>0.498854</td>\n",
       "      <td>0.385027</td>\n",
       "      <td>33.295479</td>\n",
       "    </tr>\n",
       "    <tr>\n",
       "      <th>std</th>\n",
       "      <td>378.020061</td>\n",
       "      <td>0.486592</td>\n",
       "      <td>0.837836</td>\n",
       "      <td>14.413493</td>\n",
       "      <td>1.041658</td>\n",
       "      <td>0.865560</td>\n",
       "      <td>51.758668</td>\n",
       "    </tr>\n",
       "    <tr>\n",
       "      <th>min</th>\n",
       "      <td>1.000000</td>\n",
       "      <td>0.000000</td>\n",
       "      <td>1.000000</td>\n",
       "      <td>0.170000</td>\n",
       "      <td>0.000000</td>\n",
       "      <td>0.000000</td>\n",
       "      <td>0.000000</td>\n",
       "    </tr>\n",
       "    <tr>\n",
       "      <th>25%</th>\n",
       "      <td>328.000000</td>\n",
       "      <td>0.000000</td>\n",
       "      <td>2.000000</td>\n",
       "      <td>21.000000</td>\n",
       "      <td>0.000000</td>\n",
       "      <td>0.000000</td>\n",
       "      <td>7.895800</td>\n",
       "    </tr>\n",
       "    <tr>\n",
       "      <th>50%</th>\n",
       "      <td>655.000000</td>\n",
       "      <td>0.000000</td>\n",
       "      <td>3.000000</td>\n",
       "      <td>28.000000</td>\n",
       "      <td>0.000000</td>\n",
       "      <td>0.000000</td>\n",
       "      <td>14.454200</td>\n",
       "    </tr>\n",
       "    <tr>\n",
       "      <th>75%</th>\n",
       "      <td>982.000000</td>\n",
       "      <td>1.000000</td>\n",
       "      <td>3.000000</td>\n",
       "      <td>39.000000</td>\n",
       "      <td>1.000000</td>\n",
       "      <td>0.000000</td>\n",
       "      <td>31.275000</td>\n",
       "    </tr>\n",
       "    <tr>\n",
       "      <th>max</th>\n",
       "      <td>1309.000000</td>\n",
       "      <td>1.000000</td>\n",
       "      <td>3.000000</td>\n",
       "      <td>80.000000</td>\n",
       "      <td>8.000000</td>\n",
       "      <td>9.000000</td>\n",
       "      <td>512.329200</td>\n",
       "    </tr>\n",
       "  </tbody>\n",
       "</table>\n",
       "</div>"
      ],
      "text/plain": [
       "       PassengerId    Survived       Pclass          Age        SibSp  \\\n",
       "count  1309.000000  891.000000  1309.000000  1046.000000  1309.000000   \n",
       "mean    655.000000    0.383838     2.294882    29.881138     0.498854   \n",
       "std     378.020061    0.486592     0.837836    14.413493     1.041658   \n",
       "min       1.000000    0.000000     1.000000     0.170000     0.000000   \n",
       "25%     328.000000    0.000000     2.000000    21.000000     0.000000   \n",
       "50%     655.000000    0.000000     3.000000    28.000000     0.000000   \n",
       "75%     982.000000    1.000000     3.000000    39.000000     1.000000   \n",
       "max    1309.000000    1.000000     3.000000    80.000000     8.000000   \n",
       "\n",
       "             Parch         Fare  \n",
       "count  1309.000000  1308.000000  \n",
       "mean      0.385027    33.295479  \n",
       "std       0.865560    51.758668  \n",
       "min       0.000000     0.000000  \n",
       "25%       0.000000     7.895800  \n",
       "50%       0.000000    14.454200  \n",
       "75%       0.000000    31.275000  \n",
       "max       9.000000   512.329200  "
      ]
     },
     "execution_count": 12,
     "metadata": {},
     "output_type": "execute_result"
    }
   ],
   "source": [
    "df_train.describe()"
   ]
  },
  {
   "cell_type": "markdown",
   "metadata": {},
   "source": [
    "### Check null values"
   ]
  },
  {
   "cell_type": "code",
   "execution_count": 13,
   "metadata": {
    "execution": {
     "iopub.execute_input": "2021-08-15T11:09:45.524313Z",
     "iopub.status.busy": "2021-08-15T11:09:45.523820Z",
     "iopub.status.idle": "2021-08-15T11:09:45.532239Z",
     "shell.execute_reply": "2021-08-15T11:09:45.531545Z",
     "shell.execute_reply.started": "2021-08-15T11:09:45.524281Z"
    }
   },
   "outputs": [
    {
     "data": {
      "text/plain": [
       "PassengerId       0\n",
       "Survived        418\n",
       "Pclass            0\n",
       "Name              0\n",
       "Sex               0\n",
       "Age             263\n",
       "SibSp             0\n",
       "Parch             0\n",
       "Ticket            0\n",
       "Fare              1\n",
       "Cabin          1014\n",
       "Embarked          2\n",
       "dtype: int64"
      ]
     },
     "execution_count": 13,
     "metadata": {},
     "output_type": "execute_result"
    }
   ],
   "source": [
    "df_train.isnull().sum()"
   ]
  },
  {
   "cell_type": "code",
   "execution_count": 14,
   "metadata": {
    "execution": {
     "iopub.execute_input": "2021-08-15T11:09:45.860681Z",
     "iopub.status.busy": "2021-08-15T11:09:45.860194Z",
     "iopub.status.idle": "2021-08-15T11:09:46.249858Z",
     "shell.execute_reply": "2021-08-15T11:09:46.249001Z",
     "shell.execute_reply.started": "2021-08-15T11:09:45.860651Z"
    }
   },
   "outputs": [
    {
     "data": {
      "text/plain": [
       "<AxesSubplot:xlabel='Pclass', ylabel='Embarked'>"
      ]
     },
     "execution_count": 14,
     "metadata": {},
     "output_type": "execute_result"
    },
    {
     "data": {
      "image/png": "[encoded data removed]",
      "text/plain": [
       "<Figure size 432x288 with 1 Axes>"
      ]
     },
     "metadata": {},
     "output_type": "display_data"
    }
   ],
   "source": [
    "sns.boxplot(x=\"Pclass\", y=\"Embarked\", data=df_train, orient=\"h\", palette=\"Set2\")"
   ]
  },
  {
   "cell_type": "code",
   "execution_count": 15,
   "metadata": {
    "execution": {
     "iopub.execute_input": "2021-08-15T11:09:46.251516Z",
     "iopub.status.busy": "2021-08-15T11:09:46.251248Z",
     "iopub.status.idle": "2021-08-15T11:09:46.258945Z",
     "shell.execute_reply": "2021-08-15T11:09:46.258113Z",
     "shell.execute_reply.started": "2021-08-15T11:09:46.251490Z"
    }
   },
   "outputs": [],
   "source": [
    "df_train[\"Embarked\"] = df_train[\"Embarked\"].fillna(\"C\")"
   ]
  },
  {
   "cell_type": "code",
   "execution_count": 16,
   "metadata": {
    "execution": {
     "iopub.execute_input": "2021-08-15T11:09:46.260834Z",
     "iopub.status.busy": "2021-08-15T11:09:46.260478Z",
     "iopub.status.idle": "2021-08-15T11:09:46.438435Z",
     "shell.execute_reply": "2021-08-15T11:09:46.437334Z",
     "shell.execute_reply.started": "2021-08-15T11:09:46.260803Z"
    }
   },
   "outputs": [
    {
     "data": {
      "text/plain": [
       "<AxesSubplot:xlabel='Fare', ylabel='Pclass'>"
      ]
     },
     "execution_count": 16,
     "metadata": {},
     "output_type": "execute_result"
    },
    {
     "data": {
      "image/png": "[encoded data removed]",
      "text/plain": [
       "<Figure size 432x288 with 1 Axes>"
      ]
     },
     "metadata": {},
     "output_type": "display_data"
    }
   ],
   "source": [
    "sns.boxplot(x=\"Fare\", y=\"Pclass\", data=df_train, orient=\"h\", palette=\"Set2\")"
   ]
  },
  {
   "cell_type": "code",
   "execution_count": 17,
   "metadata": {
    "execution": {
     "iopub.execute_input": "2021-08-15T11:09:46.440840Z",
     "iopub.status.busy": "2021-08-15T11:09:46.440391Z",
     "iopub.status.idle": "2021-08-15T11:09:46.463789Z",
     "shell.execute_reply": "2021-08-15T11:09:46.462859Z",
     "shell.execute_reply.started": "2021-08-15T11:09:46.440796Z"
    }
   },
   "outputs": [],
   "source": [
    "df_train[\"Fare\"] = df_train[\"Fare\"].fillna(np.mean(df_train[df_train[\"Pclass\"] == 3][\"Fare\"]))"
   ]
  },
  {
   "cell_type": "code",
   "execution_count": 18,
   "metadata": {
    "execution": {
     "iopub.execute_input": "2021-08-15T11:09:46.524181Z",
     "iopub.status.busy": "2021-08-15T11:09:46.523802Z",
     "iopub.status.idle": "2021-08-15T11:09:46.896139Z",
     "shell.execute_reply": "2021-08-15T11:09:46.894941Z",
     "shell.execute_reply.started": "2021-08-15T11:09:46.524150Z"
    }
   },
   "outputs": [
    {
     "data": {
      "image/png": "[encoded data removed]",
      "text/plain": [
       "<Figure size 792x504 with 2 Axes>"
      ]
     },
     "metadata": {},
     "output_type": "display_data"
    }
   ],
   "source": [
    "columns_lst = [\"SibSp\",\"Parch\",\"Survived\",\"Pclass\", \"Age\",\"Fare\"]\n",
    "\n",
    "plt.figure(figsize = (11,7))\n",
    "sns.heatmap(df_train[columns_lst].corr(),annot = True,fmt = \".2f\")\n",
    "plt.show()"
   ]
  },
  {
   "cell_type": "code",
   "execution_count": 19,
   "metadata": {
    "execution": {
     "iopub.execute_input": "2021-08-15T11:09:46.898190Z",
     "iopub.status.busy": "2021-08-15T11:09:46.897866Z",
     "iopub.status.idle": "2021-08-15T11:09:47.346428Z",
     "shell.execute_reply": "2021-08-15T11:09:47.345683Z",
     "shell.execute_reply.started": "2021-08-15T11:09:46.898159Z"
    }
   },
   "outputs": [
    {
     "data": {
      "image/png": "[encoded data removed]",
      "text/plain": [
       "<Figure size 504x504 with 1 Axes>"
      ]
     },
     "metadata": {},
     "output_type": "display_data"
    }
   ],
   "source": [
    "# SibSp and Survival\n",
    "sibsp_survival = sns.factorplot(x = \"SibSp\", y = \"Survived\",kind = \"bar\",size = 7,data = df_train)\n",
    "sibsp_survival.set_ylabels(\"Survived Probability\")\n",
    "plt.show()"
   ]
  },
  {
   "cell_type": "code",
   "execution_count": 20,
   "metadata": {
    "execution": {
     "iopub.execute_input": "2021-08-15T11:09:47.348327Z",
     "iopub.status.busy": "2021-08-15T11:09:47.347861Z",
     "iopub.status.idle": "2021-08-15T11:09:47.768363Z",
     "shell.execute_reply": "2021-08-15T11:09:47.767443Z",
     "shell.execute_reply.started": "2021-08-15T11:09:47.348278Z"
    }
   },
   "outputs": [
    {
     "data": {
      "image/png": "[encoded data removed]",
      "text/plain": [
       "<Figure size 504x504 with 1 Axes>"
      ]
     },
     "metadata": {},
     "output_type": "display_data"
    }
   ],
   "source": [
    "# Parch and Survival\n",
    "parch_survival = sns.factorplot(x = \"Parch\", y = \"Survived\",kind = \"bar\",size = 7,data = df_train)\n",
    "parch_survival.set_ylabels(\"Survived Probability\")\n",
    "plt.show()"
   ]
  },
  {
   "cell_type": "code",
   "execution_count": 21,
   "metadata": {
    "execution": {
     "iopub.execute_input": "2021-08-15T11:09:47.771338Z",
     "iopub.status.busy": "2021-08-15T11:09:47.770912Z",
     "iopub.status.idle": "2021-08-15T11:09:48.116309Z",
     "shell.execute_reply": "2021-08-15T11:09:48.115306Z",
     "shell.execute_reply.started": "2021-08-15T11:09:47.771295Z"
    }
   },
   "outputs": [
    {
     "data": {
      "image/png": "[encoded data removed]",
      "text/plain": [
       "<Figure size 504x504 with 1 Axes>"
      ]
     },
     "metadata": {},
     "output_type": "display_data"
    }
   ],
   "source": [
    "# Pclass and Survival\n",
    "pclass_survival = sns.factorplot(x = \"Pclass\", y = \"Survived\",kind = \"bar\",size = 7,data = df_train)\n",
    "pclass_survival.set_ylabels(\"Survived Probability\")\n",
    "plt.show()"
   ]
  },
  {
   "cell_type": "code",
   "execution_count": 22,
   "metadata": {
    "execution": {
     "iopub.execute_input": "2021-08-15T11:09:49.062384Z",
     "iopub.status.busy": "2021-08-15T11:09:49.062026Z",
     "iopub.status.idle": "2021-08-15T11:09:49.652943Z",
     "shell.execute_reply": "2021-08-15T11:09:49.651996Z",
     "shell.execute_reply.started": "2021-08-15T11:09:49.062355Z"
    }
   },
   "outputs": [
    {
     "data": {
      "image/png": "[encoded data removed]",
      "text/plain": [
       "<Figure size 1008x504 with 2 Axes>"
      ]
     },
     "metadata": {},
     "output_type": "display_data"
    }
   ],
   "source": [
    "# Age and survival\n",
    "age_survival = sns.FacetGrid(df_train, col = \"Survived\",size = 7)\n",
    "age_survival.map(sns.distplot,\"Age\",bins = 10)\n",
    "plt.show()"
   ]
  },
  {
   "cell_type": "code",
   "execution_count": 23,
   "metadata": {
    "execution": {
     "iopub.execute_input": "2021-08-15T11:09:49.654697Z",
     "iopub.status.busy": "2021-08-15T11:09:49.654385Z",
     "iopub.status.idle": "2021-08-15T11:09:50.158690Z",
     "shell.execute_reply": "2021-08-15T11:09:50.157697Z",
     "shell.execute_reply.started": "2021-08-15T11:09:49.654666Z"
    }
   },
   "outputs": [
    {
     "data": {
      "image/png": "[encoded data removed]",
      "text/plain": [
       "<Figure size 1008x504 with 2 Axes>"
      ]
     },
     "metadata": {},
     "output_type": "display_data"
    }
   ],
   "source": [
    "# Fare and survival\n",
    "fare_survival = sns.FacetGrid(df_train, col = \"Survived\",size = 7)\n",
    "fare_survival.map(sns.distplot,\"Fare\",bins = 10)\n",
    "plt.show()"
   ]
  },
  {
   "cell_type": "markdown",
   "metadata": {},
   "source": [
    "# Data Preprocessing"
   ]
  },
  {
   "cell_type": "markdown",
   "metadata": {},
   "source": [
    "### Handling the missing values of 'Age'"
   ]
  },
  {
   "cell_type": "code",
   "execution_count": 24,
   "metadata": {
    "execution": {
     "iopub.execute_input": "2021-08-15T11:09:50.160506Z",
     "iopub.status.busy": "2021-08-15T11:09:50.160154Z",
     "iopub.status.idle": "2021-08-15T11:09:50.191639Z",
     "shell.execute_reply": "2021-08-15T11:09:50.190783Z",
     "shell.execute_reply.started": "2021-08-15T11:09:50.160476Z"
    }
   },
   "outputs": [
    {
     "data": {
      "text/html": [
       "<div>\n",
       "<style scoped>\n",
       "    .dataframe tbody tr th:only-of-type {\n",
       "        vertical-align: middle;\n",
       "    }\n",
       "\n",
       "    .dataframe tbody tr th {\n",
       "        vertical-align: top;\n",
       "    }\n",
       "\n",
       "    .dataframe thead th {\n",
       "        text-align: right;\n",
       "    }\n",
       "</style>\n",
       "<table border=\"1\" class=\"dataframe\">\n",
       "  <thead>\n",
       "    <tr style=\"text-align: right;\">\n",
       "      <th></th>\n",
       "      <th>PassengerId</th>\n",
       "      <th>Survived</th>\n",
       "      <th>Pclass</th>\n",
       "      <th>Name</th>\n",
       "      <th>Sex</th>\n",
       "      <th>Age</th>\n",
       "      <th>SibSp</th>\n",
       "      <th>Parch</th>\n",
       "      <th>Ticket</th>\n",
       "      <th>Fare</th>\n",
       "      <th>Cabin</th>\n",
       "      <th>Embarked</th>\n",
       "    </tr>\n",
       "  </thead>\n",
       "  <tbody>\n",
       "    <tr>\n",
       "      <th>5</th>\n",
       "      <td>6</td>\n",
       "      <td>0.0</td>\n",
       "      <td>3</td>\n",
       "      <td>Moran, Mr. James</td>\n",
       "      <td>male</td>\n",
       "      <td>NaN</td>\n",
       "      <td>0</td>\n",
       "      <td>0</td>\n",
       "      <td>330877</td>\n",
       "      <td>8.4583</td>\n",
       "      <td>NaN</td>\n",
       "      <td>Q</td>\n",
       "    </tr>\n",
       "    <tr>\n",
       "      <th>17</th>\n",
       "      <td>18</td>\n",
       "      <td>1.0</td>\n",
       "      <td>2</td>\n",
       "      <td>Williams, Mr. Charles Eugene</td>\n",
       "      <td>male</td>\n",
       "      <td>NaN</td>\n",
       "      <td>0</td>\n",
       "      <td>0</td>\n",
       "      <td>244373</td>\n",
       "      <td>13.0000</td>\n",
       "      <td>NaN</td>\n",
       "      <td>S</td>\n",
       "    </tr>\n",
       "    <tr>\n",
       "      <th>19</th>\n",
       "      <td>20</td>\n",
       "      <td>1.0</td>\n",
       "      <td>3</td>\n",
       "      <td>Masselmani, Mrs. Fatima</td>\n",
       "      <td>female</td>\n",
       "      <td>NaN</td>\n",
       "      <td>0</td>\n",
       "      <td>0</td>\n",
       "      <td>2649</td>\n",
       "      <td>7.2250</td>\n",
       "      <td>NaN</td>\n",
       "      <td>C</td>\n",
       "    </tr>\n",
       "    <tr>\n",
       "      <th>26</th>\n",
       "      <td>27</td>\n",
       "      <td>0.0</td>\n",
       "      <td>3</td>\n",
       "      <td>Emir, Mr. Farred Chehab</td>\n",
       "      <td>male</td>\n",
       "      <td>NaN</td>\n",
       "      <td>0</td>\n",
       "      <td>0</td>\n",
       "      <td>2631</td>\n",
       "      <td>7.2250</td>\n",
       "      <td>NaN</td>\n",
       "      <td>C</td>\n",
       "    </tr>\n",
       "    <tr>\n",
       "      <th>28</th>\n",
       "      <td>29</td>\n",
       "      <td>1.0</td>\n",
       "      <td>3</td>\n",
       "      <td>O'Dwyer, Miss. Ellen \"Nellie\"</td>\n",
       "      <td>female</td>\n",
       "      <td>NaN</td>\n",
       "      <td>0</td>\n",
       "      <td>0</td>\n",
       "      <td>330959</td>\n",
       "      <td>7.8792</td>\n",
       "      <td>NaN</td>\n",
       "      <td>Q</td>\n",
       "    </tr>\n",
       "    <tr>\n",
       "      <th>...</th>\n",
       "      <td>...</td>\n",
       "      <td>...</td>\n",
       "      <td>...</td>\n",
       "      <td>...</td>\n",
       "      <td>...</td>\n",
       "      <td>...</td>\n",
       "      <td>...</td>\n",
       "      <td>...</td>\n",
       "      <td>...</td>\n",
       "      <td>...</td>\n",
       "      <td>...</td>\n",
       "      <td>...</td>\n",
       "    </tr>\n",
       "    <tr>\n",
       "      <th>1299</th>\n",
       "      <td>1300</td>\n",
       "      <td>NaN</td>\n",
       "      <td>3</td>\n",
       "      <td>Riordan, Miss. Johanna Hannah\"\"</td>\n",
       "      <td>female</td>\n",
       "      <td>NaN</td>\n",
       "      <td>0</td>\n",
       "      <td>0</td>\n",
       "      <td>334915</td>\n",
       "      <td>7.7208</td>\n",
       "      <td>NaN</td>\n",
       "      <td>Q</td>\n",
       "    </tr>\n",
       "    <tr>\n",
       "      <th>1301</th>\n",
       "      <td>1302</td>\n",
       "      <td>NaN</td>\n",
       "      <td>3</td>\n",
       "      <td>Naughton, Miss. Hannah</td>\n",
       "      <td>female</td>\n",
       "      <td>NaN</td>\n",
       "      <td>0</td>\n",
       "      <td>0</td>\n",
       "      <td>365237</td>\n",
       "      <td>7.7500</td>\n",
       "      <td>NaN</td>\n",
       "      <td>Q</td>\n",
       "    </tr>\n",
       "    <tr>\n",
       "      <th>1304</th>\n",
       "      <td>1305</td>\n",
       "      <td>NaN</td>\n",
       "      <td>3</td>\n",
       "      <td>Spector, Mr. Woolf</td>\n",
       "      <td>male</td>\n",
       "      <td>NaN</td>\n",
       "      <td>0</td>\n",
       "      <td>0</td>\n",
       "      <td>A.5. 3236</td>\n",
       "      <td>8.0500</td>\n",
       "      <td>NaN</td>\n",
       "      <td>S</td>\n",
       "    </tr>\n",
       "    <tr>\n",
       "      <th>1307</th>\n",
       "      <td>1308</td>\n",
       "      <td>NaN</td>\n",
       "      <td>3</td>\n",
       "      <td>Ware, Mr. Frederick</td>\n",
       "      <td>male</td>\n",
       "      <td>NaN</td>\n",
       "      <td>0</td>\n",
       "      <td>0</td>\n",
       "      <td>359309</td>\n",
       "      <td>8.0500</td>\n",
       "      <td>NaN</td>\n",
       "      <td>S</td>\n",
       "    </tr>\n",
       "    <tr>\n",
       "      <th>1308</th>\n",
       "      <td>1309</td>\n",
       "      <td>NaN</td>\n",
       "      <td>3</td>\n",
       "      <td>Peter, Master. Michael J</td>\n",
       "      <td>male</td>\n",
       "      <td>NaN</td>\n",
       "      <td>1</td>\n",
       "      <td>1</td>\n",
       "      <td>2668</td>\n",
       "      <td>22.3583</td>\n",
       "      <td>NaN</td>\n",
       "      <td>C</td>\n",
       "    </tr>\n",
       "  </tbody>\n",
       "</table>\n",
       "<p>263 rows × 12 columns</p>\n",
       "</div>"
      ],
      "text/plain": [
       "      PassengerId  Survived  Pclass                             Name     Sex  \\\n",
       "5               6       0.0       3                 Moran, Mr. James    male   \n",
       "17             18       1.0       2     Williams, Mr. Charles Eugene    male   \n",
       "19             20       1.0       3          Masselmani, Mrs. Fatima  female   \n",
       "26             27       0.0       3          Emir, Mr. Farred Chehab    male   \n",
       "28             29       1.0       3    O'Dwyer, Miss. Ellen \"Nellie\"  female   \n",
       "...           ...       ...     ...                              ...     ...   \n",
       "1299         1300       NaN       3  Riordan, Miss. Johanna Hannah\"\"  female   \n",
       "1301         1302       NaN       3           Naughton, Miss. Hannah  female   \n",
       "1304         1305       NaN       3               Spector, Mr. Woolf    male   \n",
       "1307         1308       NaN       3              Ware, Mr. Frederick    male   \n",
       "1308         1309       NaN       3         Peter, Master. Michael J    male   \n",
       "\n",
       "      Age  SibSp  Parch     Ticket     Fare Cabin Embarked  \n",
       "5     NaN      0      0     330877   8.4583   NaN        Q  \n",
       "17    NaN      0      0     244373  13.0000   NaN        S  \n",
       "19    NaN      0      0       2649   7.2250   NaN        C  \n",
       "26    NaN      0      0       2631   7.2250   NaN        C  \n",
       "28    NaN      0      0     330959   7.8792   NaN        Q  \n",
       "...   ...    ...    ...        ...      ...   ...      ...  \n",
       "1299  NaN      0      0     334915   7.7208   NaN        Q  \n",
       "1301  NaN      0      0     365237   7.7500   NaN        Q  \n",
       "1304  NaN      0      0  A.5. 3236   8.0500   NaN        S  \n",
       "1307  NaN      0      0     359309   8.0500   NaN        S  \n",
       "1308  NaN      1      1       2668  22.3583   NaN        C  \n",
       "\n",
       "[263 rows x 12 columns]"
      ]
     },
     "execution_count": 24,
     "metadata": {},
     "output_type": "execute_result"
    }
   ],
   "source": [
    "df_train[df_train.Age.isnull()]"
   ]
  },
  {
   "cell_type": "code",
   "execution_count": 25,
   "metadata": {
    "execution": {
     "iopub.execute_input": "2021-08-15T11:09:50.195278Z",
     "iopub.status.busy": "2021-08-15T11:09:50.194975Z",
     "iopub.status.idle": "2021-08-15T11:09:51.626782Z",
     "shell.execute_reply": "2021-08-15T11:09:51.625880Z",
     "shell.execute_reply.started": "2021-08-15T11:09:50.195250Z"
    }
   },
   "outputs": [
    {
     "data": {
      "image/png": "[encoded data removed]",
      "text/plain": [
       "<Figure size 360x360 with 1 Axes>"
      ]
     },
     "metadata": {},
     "output_type": "display_data"
    },
    {
     "data": {
      "image/png": "[encoded data removed]",
      "text/plain": [
       "<Figure size 402.375x360 with 1 Axes>"
      ]
     },
     "metadata": {},
     "output_type": "display_data"
    },
    {
     "data": {
      "image/png": "[encoded data removed]",
      "text/plain": [
       "<Figure size 360x360 with 1 Axes>"
      ]
     },
     "metadata": {},
     "output_type": "display_data"
    },
    {
     "data": {
      "image/png": "[encoded data removed]",
      "text/plain": [
       "<Figure size 360x360 with 1 Axes>"
      ]
     },
     "metadata": {},
     "output_type": "display_data"
    }
   ],
   "source": [
    "sns.factorplot(x = \"Sex\", y = \"Age\",data = df_train, kind = \"box\").set(title='Age and SibSp')\n",
    "sns.factorplot(x = \"Sex\", y = \"Age\", hue = \"Pclass\",data = df_train, kind = \"box\").set(title='Age and Pclass')\n",
    "sns.factorplot(x = \"SibSp\", y = \"Age\",data = df_train, kind = \"box\").set(title='Age and SibSp')\n",
    "sns.factorplot(x = \"Parch\", y = \"Age\",data = df_train, kind = \"box\").set(title='Age and Parch')\n",
    "\n",
    "plt.show()"
   ]
  },
  {
   "cell_type": "code",
   "execution_count": 26,
   "metadata": {
    "execution": {
     "iopub.execute_input": "2021-08-15T11:09:51.628635Z",
     "iopub.status.busy": "2021-08-15T11:09:51.628309Z",
     "iopub.status.idle": "2021-08-15T11:09:52.225253Z",
     "shell.execute_reply": "2021-08-15T11:09:52.224410Z",
     "shell.execute_reply.started": "2021-08-15T11:09:51.628608Z"
    }
   },
   "outputs": [],
   "source": [
    "index_nan = list(df_train[df_train.Age.isnull()].index)\n",
    "for i in index_nan:\n",
    "    age_pred = df_train[\"Age\"][((df_train[\"SibSp\"] == df_train.iloc[i][\"SibSp\"]) & (df_train[\"Parch\"] == df_train.iloc[i][\"Parch\"]) & \n",
    "                               (df_train[\"Pclass\"] == df_train.iloc[i][\"Pclass\"]))].median()\n",
    "    age_med = df_train[\"Age\"].median()\n",
    "    \n",
    "    if not np.isnan(age_pred):\n",
    "        df_train[\"Age\"].iloc[i] = age_pred\n",
    "    else:\n",
    "        df_train[\"Age\"].iloc[i] = age_med   "
   ]
  },
  {
   "cell_type": "markdown",
   "metadata": {},
   "source": [
    "## Name"
   ]
  },
  {
   "cell_type": "code",
   "execution_count": 27,
   "metadata": {
    "execution": {
     "iopub.execute_input": "2021-08-15T11:09:52.805088Z",
     "iopub.status.busy": "2021-08-15T11:09:52.804705Z",
     "iopub.status.idle": "2021-08-15T11:09:52.814410Z",
     "shell.execute_reply": "2021-08-15T11:09:52.813793Z",
     "shell.execute_reply.started": "2021-08-15T11:09:52.805056Z"
    }
   },
   "outputs": [
    {
     "data": {
      "text/plain": [
       "0        Mr\n",
       "1       Mrs\n",
       "2      Miss\n",
       "3       Mrs\n",
       "4        Mr\n",
       "5        Mr\n",
       "6        Mr\n",
       "7    Master\n",
       "8       Mrs\n",
       "9       Mrs\n",
       "Name: Title, dtype: object"
      ]
     },
     "execution_count": 27,
     "metadata": {},
     "output_type": "execute_result"
    }
   ],
   "source": [
    "names = df_train[\"Name\"]\n",
    "df_train[\"Title\"] = [name.split(\".\")[0].split(\",\")[-1].strip() for name in names]\n",
    "df_train[\"Title\"].head(10)"
   ]
  },
  {
   "cell_type": "code",
   "execution_count": 28,
   "metadata": {
    "execution": {
     "iopub.execute_input": "2021-08-15T11:09:52.973459Z",
     "iopub.status.busy": "2021-08-15T11:09:52.972977Z",
     "iopub.status.idle": "2021-08-15T11:09:53.227561Z",
     "shell.execute_reply": "2021-08-15T11:09:53.226888Z",
     "shell.execute_reply.started": "2021-08-15T11:09:52.973427Z"
    }
   },
   "outputs": [
    {
     "data": {
      "image/png": "[encoded data removed]",
      "text/plain": [
       "<Figure size 792x504 with 1 Axes>"
      ]
     },
     "metadata": {},
     "output_type": "display_data"
    }
   ],
   "source": [
    "plt.figure(figsize = (11,7))\n",
    "\n",
    "sns.countplot(x=\"Title\", data = df_train)\n",
    "plt.xticks(rotation = 60)\n",
    "plt.show()"
   ]
  },
  {
   "cell_type": "code",
   "execution_count": 29,
   "metadata": {
    "execution": {
     "iopub.execute_input": "2021-08-15T11:09:53.229064Z",
     "iopub.status.busy": "2021-08-15T11:09:53.228653Z",
     "iopub.status.idle": "2021-08-15T11:09:53.238234Z",
     "shell.execute_reply": "2021-08-15T11:09:53.237520Z",
     "shell.execute_reply.started": "2021-08-15T11:09:53.229034Z"
    }
   },
   "outputs": [],
   "source": [
    "df_train[\"Title\"] = df_train[\"Title\"].replace([\"Lady\",\"the Countess\",\"Capt\",\"Col\",\"Don\",\"Dr\",\"Major\",\"Rev\",\"Sir\",\"Jonkheer\",\"Dona\"],\"Other\")\n",
    "df_train[\"Title\"] = [0 if i == \"Master\" else 1 if i == \"Miss\" or i == \"Ms\" or i == \"Mlle\" or i == \"Mrs\" else 2 if i == \"Mr\" else 3 for i in df_train[\"Title\"]]"
   ]
  },
  {
   "cell_type": "code",
   "execution_count": 30,
   "metadata": {
    "execution": {
     "iopub.execute_input": "2021-08-15T11:09:53.779880Z",
     "iopub.status.busy": "2021-08-15T11:09:53.779159Z",
     "iopub.status.idle": "2021-08-15T11:09:53.916011Z",
     "shell.execute_reply": "2021-08-15T11:09:53.915304Z",
     "shell.execute_reply.started": "2021-08-15T11:09:53.779829Z"
    }
   },
   "outputs": [
    {
     "data": {
      "image/png": "[encoded data removed]",
      "text/plain": [
       "<Figure size 648x504 with 1 Axes>"
      ]
     },
     "metadata": {},
     "output_type": "display_data"
    }
   ],
   "source": [
    "plt.figure(figsize = (9,7))\n",
    "\n",
    "sns.countplot(x=\"Title\", data = df_train)\n",
    "plt.show()"
   ]
  },
  {
   "cell_type": "code",
   "execution_count": 31,
   "metadata": {
    "execution": {
     "iopub.execute_input": "2021-08-15T11:09:56.629831Z",
     "iopub.status.busy": "2021-08-15T11:09:56.629442Z",
     "iopub.status.idle": "2021-08-15T11:09:57.014509Z",
     "shell.execute_reply": "2021-08-15T11:09:57.013799Z",
     "shell.execute_reply.started": "2021-08-15T11:09:56.629797Z"
    }
   },
   "outputs": [
    {
     "data": {
      "image/png": "[encoded data removed]",
      "text/plain": [
       "<Figure size 360x360 with 1 Axes>"
      ]
     },
     "metadata": {},
     "output_type": "display_data"
    }
   ],
   "source": [
    "title_survival = sns.factorplot(x = \"Title\", y = \"Survived\", data = df_train, kind = \"bar\").set(title = \"Title and Survival\")\n",
    "title_survival.set_xticklabels([\"Master\",\"Mrs\",\"Mr\",\"Other\"])\n",
    "title_survival.set_ylabels(\"Survival Probability\")\n",
    "plt.show()"
   ]
  },
  {
   "cell_type": "code",
   "execution_count": 32,
   "metadata": {
    "execution": {
     "iopub.execute_input": "2021-08-15T11:09:57.016077Z",
     "iopub.status.busy": "2021-08-15T11:09:57.015636Z",
     "iopub.status.idle": "2021-08-15T11:09:57.028151Z",
     "shell.execute_reply": "2021-08-15T11:09:57.026834Z",
     "shell.execute_reply.started": "2021-08-15T11:09:57.016046Z"
    }
   },
   "outputs": [],
   "source": [
    "#create dummies for title\n",
    "df_train = pd.get_dummies(df_train,columns=[\"Title\"])"
   ]
  },
  {
   "cell_type": "code",
   "execution_count": 33,
   "metadata": {
    "execution": {
     "iopub.execute_input": "2021-08-15T11:09:57.030490Z",
     "iopub.status.busy": "2021-08-15T11:09:57.030161Z",
     "iopub.status.idle": "2021-08-15T11:09:57.037482Z",
     "shell.execute_reply": "2021-08-15T11:09:57.036552Z",
     "shell.execute_reply.started": "2021-08-15T11:09:57.030451Z"
    }
   },
   "outputs": [],
   "source": [
    "df_train[\"Family_size\"] = df_train[\"SibSp\"] + df_train[\"Parch\"] + 1"
   ]
  },
  {
   "cell_type": "code",
   "execution_count": 34,
   "metadata": {
    "execution": {
     "iopub.execute_input": "2021-08-15T11:09:57.256701Z",
     "iopub.status.busy": "2021-08-15T11:09:57.256360Z",
     "iopub.status.idle": "2021-08-15T11:09:57.816429Z",
     "shell.execute_reply": "2021-08-15T11:09:57.815596Z",
     "shell.execute_reply.started": "2021-08-15T11:09:57.256671Z"
    }
   },
   "outputs": [
    {
     "data": {
      "image/png": "[encoded data removed]",
      "text/plain": [
       "<Figure size 360x360 with 1 Axes>"
      ]
     },
     "metadata": {},
     "output_type": "display_data"
    }
   ],
   "source": [
    "fsize_survival = sns.factorplot(x = \"Family_size\", y = \"Survived\", data = df_train, kind = \"bar\").set(title = 'Family Size and Survival')\n",
    "fsize_survival.set_ylabels(\"Survival\")\n",
    "plt.show()"
   ]
  },
  {
   "cell_type": "code",
   "execution_count": 35,
   "metadata": {
    "execution": {
     "iopub.execute_input": "2021-08-15T11:09:59.752803Z",
     "iopub.status.busy": "2021-08-15T11:09:59.752240Z",
     "iopub.status.idle": "2021-08-15T11:09:59.761506Z",
     "shell.execute_reply": "2021-08-15T11:09:59.760229Z",
     "shell.execute_reply.started": "2021-08-15T11:09:59.752727Z"
    }
   },
   "outputs": [],
   "source": [
    "df_train[\"Family_size\"] = [1 if i < 5 else 0 for i in df_train[\"Family_size\"]]"
   ]
  },
  {
   "cell_type": "code",
   "execution_count": 36,
   "metadata": {
    "execution": {
     "iopub.execute_input": "2021-08-15T11:09:59.969275Z",
     "iopub.status.busy": "2021-08-15T11:09:59.968710Z",
     "iopub.status.idle": "2021-08-15T11:10:00.253986Z",
     "shell.execute_reply": "2021-08-15T11:10:00.253283Z",
     "shell.execute_reply.started": "2021-08-15T11:09:59.969238Z"
    }
   },
   "outputs": [
    {
     "data": {
      "image/png": "[encoded data removed]",
      "text/plain": [
       "<Figure size 360x360 with 1 Axes>"
      ]
     },
     "metadata": {},
     "output_type": "display_data"
    }
   ],
   "source": [
    "fsize_survival = sns.factorplot(x = \"Family_size\", y = \"Survived\", data = df_train, kind = \"bar\")\n",
    "fsize_survival.set_ylabels(\"Survival\")\n",
    "plt.show()"
   ]
  },
  {
   "cell_type": "code",
   "execution_count": 37,
   "metadata": {
    "execution": {
     "iopub.execute_input": "2021-08-15T11:10:00.255415Z",
     "iopub.status.busy": "2021-08-15T11:10:00.255052Z",
     "iopub.status.idle": "2021-08-15T11:10:00.264195Z",
     "shell.execute_reply": "2021-08-15T11:10:00.263260Z",
     "shell.execute_reply.started": "2021-08-15T11:10:00.255388Z"
    }
   },
   "outputs": [],
   "source": [
    "df_train = pd.get_dummies(df_train, columns= [\"Family_size\"])"
   ]
  },
  {
   "cell_type": "code",
   "execution_count": 38,
   "metadata": {
    "execution": {
     "iopub.execute_input": "2021-08-15T11:10:00.416574Z",
     "iopub.status.busy": "2021-08-15T11:10:00.416230Z",
     "iopub.status.idle": "2021-08-15T11:10:00.526828Z",
     "shell.execute_reply": "2021-08-15T11:10:00.525915Z",
     "shell.execute_reply.started": "2021-08-15T11:10:00.416543Z"
    }
   },
   "outputs": [
    {
     "data": {
      "image/png": "[encoded data removed]",
      "text/plain": [
       "<Figure size 432x288 with 1 Axes>"
      ]
     },
     "metadata": {},
     "output_type": "display_data"
    }
   ],
   "source": [
    "sns.countplot(x = \"Embarked\", data = df_train)\n",
    "plt.show()"
   ]
  },
  {
   "cell_type": "code",
   "execution_count": 39,
   "metadata": {
    "execution": {
     "iopub.execute_input": "2021-08-15T11:10:03.425427Z",
     "iopub.status.busy": "2021-08-15T11:10:03.424945Z",
     "iopub.status.idle": "2021-08-15T11:10:03.436238Z",
     "shell.execute_reply": "2021-08-15T11:10:03.435394Z",
     "shell.execute_reply.started": "2021-08-15T11:10:03.425398Z"
    }
   },
   "outputs": [],
   "source": [
    "df_train = pd.get_dummies(df_train, columns=[\"Embarked\"])"
   ]
  },
  {
   "cell_type": "code",
   "execution_count": 40,
   "metadata": {
    "execution": {
     "iopub.execute_input": "2021-08-15T11:10:03.653213Z",
     "iopub.status.busy": "2021-08-15T11:10:03.652691Z",
     "iopub.status.idle": "2021-08-15T11:10:03.663567Z",
     "shell.execute_reply": "2021-08-15T11:10:03.662724Z",
     "shell.execute_reply.started": "2021-08-15T11:10:03.653180Z"
    }
   },
   "outputs": [
    {
     "data": {
      "text/plain": [
       "PassengerId         0\n",
       "Survived          418\n",
       "Pclass              0\n",
       "Name                0\n",
       "Sex                 0\n",
       "Age                 0\n",
       "SibSp               0\n",
       "Parch               0\n",
       "Ticket              0\n",
       "Fare                0\n",
       "Cabin            1014\n",
       "Title_0             0\n",
       "Title_1             0\n",
       "Title_2             0\n",
       "Title_3             0\n",
       "Family_size_0       0\n",
       "Family_size_1       0\n",
       "Embarked_C          0\n",
       "Embarked_Q          0\n",
       "Embarked_S          0\n",
       "dtype: int64"
      ]
     },
     "execution_count": 40,
     "metadata": {},
     "output_type": "execute_result"
    }
   ],
   "source": [
    "df_train.isnull().sum()"
   ]
  },
  {
   "cell_type": "code",
   "execution_count": 41,
   "metadata": {
    "execution": {
     "iopub.execute_input": "2021-08-15T11:10:03.966944Z",
     "iopub.status.busy": "2021-08-15T11:10:03.966442Z",
     "iopub.status.idle": "2021-08-15T11:10:03.973767Z",
     "shell.execute_reply": "2021-08-15T11:10:03.972927Z",
     "shell.execute_reply.started": "2021-08-15T11:10:03.966913Z"
    }
   },
   "outputs": [],
   "source": [
    "tickets = []\n",
    "for i in list(df_train.Ticket):\n",
    "    if not i.isdigit():\n",
    "        tickets.append(i.replace(\".\",\"\").replace(\"/\",\"\").strip().split(\" \")[0])\n",
    "    else:\n",
    "        tickets.append(\"x\")\n",
    "df_train[\"Ticket\"] = tickets"
   ]
  },
  {
   "cell_type": "code",
   "execution_count": 42,
   "metadata": {
    "execution": {
     "iopub.execute_input": "2021-08-15T11:10:04.400430Z",
     "iopub.status.busy": "2021-08-15T11:10:04.399907Z",
     "iopub.status.idle": "2021-08-15T11:10:04.409011Z",
     "shell.execute_reply": "2021-08-15T11:10:04.407880Z",
     "shell.execute_reply.started": "2021-08-15T11:10:04.400387Z"
    }
   },
   "outputs": [
    {
     "data": {
      "text/plain": [
       "<bound method Series.unique of 0            A5\n",
       "1            PC\n",
       "2        STONO2\n",
       "3             x\n",
       "4             x\n",
       "         ...   \n",
       "1304         A5\n",
       "1305         PC\n",
       "1306    SOTONOQ\n",
       "1307          x\n",
       "1308          x\n",
       "Name: Ticket, Length: 1309, dtype: object>"
      ]
     },
     "execution_count": 42,
     "metadata": {},
     "output_type": "execute_result"
    }
   ],
   "source": [
    "df_train[\"Ticket\"].unique"
   ]
  },
  {
   "cell_type": "code",
   "execution_count": 43,
   "metadata": {
    "execution": {
     "iopub.execute_input": "2021-08-15T11:10:04.615952Z",
     "iopub.status.busy": "2021-08-15T11:10:04.615573Z",
     "iopub.status.idle": "2021-08-15T11:10:04.627980Z",
     "shell.execute_reply": "2021-08-15T11:10:04.626933Z",
     "shell.execute_reply.started": "2021-08-15T11:10:04.615920Z"
    }
   },
   "outputs": [],
   "source": [
    "df_train = pd.get_dummies(df_train, columns= [\"Ticket\"], prefix = \"T\")"
   ]
  },
  {
   "cell_type": "code",
   "execution_count": 44,
   "metadata": {
    "execution": {
     "iopub.execute_input": "2021-08-15T11:10:06.916953Z",
     "iopub.status.busy": "2021-08-15T11:10:06.916560Z",
     "iopub.status.idle": "2021-08-15T11:10:07.041515Z",
     "shell.execute_reply": "2021-08-15T11:10:07.040714Z",
     "shell.execute_reply.started": "2021-08-15T11:10:06.916918Z"
    }
   },
   "outputs": [
    {
     "data": {
      "image/png": "[encoded data removed]",
      "text/plain": [
       "<Figure size 432x288 with 1 Axes>"
      ]
     },
     "metadata": {},
     "output_type": "display_data"
    }
   ],
   "source": [
    "sns.countplot(x = \"Pclass\", data = df_train)\n",
    "plt.show()"
   ]
  },
  {
   "cell_type": "code",
   "execution_count": 45,
   "metadata": {
    "execution": {
     "iopub.execute_input": "2021-08-15T11:10:07.210296Z",
     "iopub.status.busy": "2021-08-15T11:10:07.209884Z",
     "iopub.status.idle": "2021-08-15T11:10:07.222962Z",
     "shell.execute_reply": "2021-08-15T11:10:07.222045Z",
     "shell.execute_reply.started": "2021-08-15T11:10:07.210265Z"
    }
   },
   "outputs": [],
   "source": [
    "df_train[\"Pclass\"] = df_train[\"Pclass\"].astype(\"category\")\n",
    "df_train = pd.get_dummies(df_train, columns= [\"Pclass\"])"
   ]
  },
  {
   "cell_type": "code",
   "execution_count": 46,
   "metadata": {
    "execution": {
     "iopub.execute_input": "2021-08-15T11:10:07.323401Z",
     "iopub.status.busy": "2021-08-15T11:10:07.323048Z",
     "iopub.status.idle": "2021-08-15T11:10:07.336482Z",
     "shell.execute_reply": "2021-08-15T11:10:07.335285Z",
     "shell.execute_reply.started": "2021-08-15T11:10:07.323369Z"
    }
   },
   "outputs": [],
   "source": [
    "df_train[\"Sex\"] = df_train[\"Sex\"].astype(\"category\")\n",
    "df_train = pd.get_dummies(df_train, columns=[\"Sex\"])"
   ]
  },
  {
   "cell_type": "code",
   "execution_count": 47,
   "metadata": {
    "execution": {
     "iopub.execute_input": "2021-08-15T11:10:07.531425Z",
     "iopub.status.busy": "2021-08-15T11:10:07.530940Z",
     "iopub.status.idle": "2021-08-15T11:10:07.540888Z",
     "shell.execute_reply": "2021-08-15T11:10:07.539832Z",
     "shell.execute_reply.started": "2021-08-15T11:10:07.531393Z"
    }
   },
   "outputs": [
    {
     "data": {
      "text/plain": [
       "Index(['Survived', 'Age', 'SibSp', 'Parch', 'Fare', 'Title_0', 'Title_1',\n",
       "       'Title_2', 'Title_3', 'Family_size_0', 'Family_size_1', 'Embarked_C',\n",
       "       'Embarked_Q', 'Embarked_S', 'T_A', 'T_A4', 'T_A5', 'T_AQ3', 'T_AQ4',\n",
       "       'T_AS', 'T_C', 'T_CA', 'T_CASOTON', 'T_FC', 'T_FCC', 'T_Fa', 'T_LINE',\n",
       "       'T_LP', 'T_PC', 'T_PP', 'T_PPP', 'T_SC', 'T_SCA3', 'T_SCA4', 'T_SCAH',\n",
       "       'T_SCOW', 'T_SCPARIS', 'T_SCParis', 'T_SOC', 'T_SOP', 'T_SOPP',\n",
       "       'T_SOTONO2', 'T_SOTONOQ', 'T_SP', 'T_STONO', 'T_STONO2', 'T_STONOQ',\n",
       "       'T_SWPP', 'T_WC', 'T_WEP', 'T_x', 'Pclass_1', 'Pclass_2', 'Pclass_3',\n",
       "       'Sex_female', 'Sex_male'],\n",
       "      dtype='object')"
      ]
     },
     "execution_count": 47,
     "metadata": {},
     "output_type": "execute_result"
    }
   ],
   "source": [
    "df_train.drop(labels = [\"PassengerId\", \"Cabin\", \"Name\"], axis = 1, inplace = True)\n",
    "df_train.columns"
   ]
  },
  {
   "cell_type": "code",
   "execution_count": 48,
   "metadata": {
    "execution": {
     "iopub.execute_input": "2021-08-15T11:10:07.715952Z",
     "iopub.status.busy": "2021-08-15T11:10:07.715581Z",
     "iopub.status.idle": "2021-08-15T11:10:07.725249Z",
     "shell.execute_reply": "2021-08-15T11:10:07.724178Z",
     "shell.execute_reply.started": "2021-08-15T11:10:07.715919Z"
    }
   },
   "outputs": [
    {
     "data": {
      "text/plain": [
       "Survived         418\n",
       "Age                0\n",
       "SibSp              0\n",
       "Parch              0\n",
       "Fare               0\n",
       "Title_0            0\n",
       "Title_1            0\n",
       "Title_2            0\n",
       "Title_3            0\n",
       "Family_size_0      0\n",
       "Family_size_1      0\n",
       "Embarked_C         0\n",
       "Embarked_Q         0\n",
       "Embarked_S         0\n",
       "T_A                0\n",
       "T_A4               0\n",
       "T_A5               0\n",
       "T_AQ3              0\n",
       "T_AQ4              0\n",
       "T_AS               0\n",
       "T_C                0\n",
       "T_CA               0\n",
       "T_CASOTON          0\n",
       "T_FC               0\n",
       "T_FCC              0\n",
       "T_Fa               0\n",
       "T_LINE             0\n",
       "T_LP               0\n",
       "T_PC               0\n",
       "T_PP               0\n",
       "T_PPP              0\n",
       "T_SC               0\n",
       "T_SCA3             0\n",
       "T_SCA4             0\n",
       "T_SCAH             0\n",
       "T_SCOW             0\n",
       "T_SCPARIS          0\n",
       "T_SCParis          0\n",
       "T_SOC              0\n",
       "T_SOP              0\n",
       "T_SOPP             0\n",
       "T_SOTONO2          0\n",
       "T_SOTONOQ          0\n",
       "T_SP               0\n",
       "T_STONO            0\n",
       "T_STONO2           0\n",
       "T_STONOQ           0\n",
       "T_SWPP             0\n",
       "T_WC               0\n",
       "T_WEP              0\n",
       "T_x                0\n",
       "Pclass_1           0\n",
       "Pclass_2           0\n",
       "Pclass_3           0\n",
       "Sex_female         0\n",
       "Sex_male           0\n",
       "dtype: int64"
      ]
     },
     "execution_count": 48,
     "metadata": {},
     "output_type": "execute_result"
    }
   ],
   "source": [
    "df_train.isnull().sum()"
   ]
  },
  {
   "cell_type": "markdown",
   "metadata": {},
   "source": [
    "# Model Evaluation"
   ]
  },
  {
   "cell_type": "markdown",
   "metadata": {
    "execution": {
     "iopub.execute_input": "2021-08-15T05:33:27.391040Z",
     "iopub.status.busy": "2021-08-15T05:33:27.390686Z",
     "iopub.status.idle": "2021-08-15T05:33:27.799137Z",
     "shell.execute_reply": "2021-08-15T05:33:27.798121Z",
     "shell.execute_reply.started": "2021-08-15T05:33:27.391009Z"
    }
   },
   "source": [
    "### Prepare training and testing data"
   ]
  },
  {
   "cell_type": "code",
   "execution_count": 49,
   "metadata": {
    "execution": {
     "iopub.execute_input": "2021-08-15T11:10:09.169451Z",
     "iopub.status.busy": "2021-08-15T11:10:09.169054Z",
     "iopub.status.idle": "2021-08-15T11:10:09.176236Z",
     "shell.execute_reply": "2021-08-15T11:10:09.175177Z",
     "shell.execute_reply.started": "2021-08-15T11:10:09.169420Z"
    }
   },
   "outputs": [
    {
     "data": {
      "text/plain": [
       "((1309, 56), 891)"
      ]
     },
     "execution_count": 49,
     "metadata": {},
     "output_type": "execute_result"
    }
   ],
   "source": [
    "df_train.shape, df_train_len"
   ]
  },
  {
   "cell_type": "code",
   "execution_count": 50,
   "metadata": {
    "execution": {
     "iopub.execute_input": "2021-08-15T11:10:12.414557Z",
     "iopub.status.busy": "2021-08-15T11:10:12.414051Z",
     "iopub.status.idle": "2021-08-15T11:10:12.421372Z",
     "shell.execute_reply": "2021-08-15T11:10:12.420696Z",
     "shell.execute_reply.started": "2021-08-15T11:10:12.414515Z"
    }
   },
   "outputs": [],
   "source": [
    "test = df_train[df_train_len:]\n",
    "test.drop(labels = [\"Survived\"],axis = 1, inplace = True)\n",
    "\n",
    "train = df_train[:df_train_len]"
   ]
  },
  {
   "cell_type": "code",
   "execution_count": 51,
   "metadata": {
    "execution": {
     "iopub.execute_input": "2021-08-15T11:10:12.593633Z",
     "iopub.status.busy": "2021-08-15T11:10:12.593148Z",
     "iopub.status.idle": "2021-08-15T11:10:12.599920Z",
     "shell.execute_reply": "2021-08-15T11:10:12.599199Z",
     "shell.execute_reply.started": "2021-08-15T11:10:12.593603Z"
    }
   },
   "outputs": [],
   "source": [
    "X_train = train.drop(labels = \"Survived\", axis = 1)\n",
    "y_train = train[\"Survived\"]"
   ]
  },
  {
   "cell_type": "markdown",
   "metadata": {},
   "source": [
    "### Train/test split"
   ]
  },
  {
   "cell_type": "code",
   "execution_count": 52,
   "metadata": {
    "execution": {
     "iopub.execute_input": "2021-08-15T11:10:13.884641Z",
     "iopub.status.busy": "2021-08-15T11:10:13.884147Z",
     "iopub.status.idle": "2021-08-15T11:10:13.892343Z",
     "shell.execute_reply": "2021-08-15T11:10:13.891548Z",
     "shell.execute_reply.started": "2021-08-15T11:10:13.884604Z"
    }
   },
   "outputs": [],
   "source": [
    "X_train, X_valid, y_train, y_valid = train_test_split(X_train, y_train, test_size = 0.3, random_state = 42)"
   ]
  },
  {
   "cell_type": "markdown",
   "metadata": {},
   "source": [
    "### Define parameters and prepare ML algorithms"
   ]
  },
  {
   "cell_type": "code",
   "execution_count": 54,
   "metadata": {
    "execution": {
     "iopub.execute_input": "2021-08-15T05:38:25.328678Z",
     "iopub.status.busy": "2021-08-15T05:38:25.328285Z",
     "iopub.status.idle": "2021-08-15T05:38:25.342959Z",
     "shell.execute_reply": "2021-08-15T05:38:25.341966Z",
     "shell.execute_reply.started": "2021-08-15T05:38:25.328646Z"
    }
   },
   "outputs": [],
   "source": [
    "random_state = 42\n",
    "classifier = [DecisionTreeClassifier(random_state = random_state),\n",
    "             SVC(random_state = random_state),\n",
    "             RandomForestClassifier(random_state = random_state),\n",
    "             LogisticRegression(random_state = random_state),\n",
    "             KNeighborsClassifier()]\n",
    "\n",
    "dt_param_grid = {\"min_samples_split\" : range(10,500,20),\n",
    "                \"max_depth\": range(1,20,2)}\n",
    "\n",
    "svc_param_grid = {\"kernel\" : [\"rbf\"],\n",
    "                 \"gamma\": [0.001, 0.01, 0.1, 1],\n",
    "                 \"C\": [1,10,50,100,200,300,1000]}\n",
    "\n",
    "rf_param_grid = {\"max_features\": [1,3,5,10],\n",
    "                \"min_samples_split\":[2,3,5,10],\n",
    "                \"min_samples_leaf\":[1,3,5,10],\n",
    "                \"bootstrap\":[False],\n",
    "                \"n_estimators\":[100,300,10],\n",
    "                \"criterion\":[\"gini\"]}\n",
    "\n",
    "logreg_param_grid = {\"C\":np.logspace(-3,3,7),\n",
    "                    \"penalty\": [\"l1\",\"l2\"]}\n",
    "\n",
    "knn_param_grid = {\"n_neighbors\": np.linspace(1,19,10, dtype = int).tolist(),\n",
    "                 \"weights\": [\"uniform\",\"distance\"],\n",
    "                 \"metric\":[\"euclidean\",\"manhattan\"]}\n",
    "classifier_param = [dt_param_grid,\n",
    "                   svc_param_grid,\n",
    "                   rf_param_grid,\n",
    "                   logreg_param_grid,\n",
    "                   knn_param_grid]"
   ]
  },
  {
   "cell_type": "code",
   "execution_count": 55,
   "metadata": {
    "execution": {
     "iopub.execute_input": "2021-08-15T05:38:25.840554Z",
     "iopub.status.busy": "2021-08-15T05:38:25.840041Z",
     "iopub.status.idle": "2021-08-15T05:41:57.483840Z",
     "shell.execute_reply": "2021-08-15T05:41:57.482562Z",
     "shell.execute_reply.started": "2021-08-15T05:38:25.840521Z"
    }
   },
   "outputs": [
    {
     "name": "stdout",
     "output_type": "stream",
     "text": [
      "Fitting 10 folds for each of 250 candidates, totalling 2500 fits\n"
     ]
    },
    {
     "name": "stderr",
     "output_type": "stream",
     "text": [
      "[Parallel(n_jobs=-1)]: Using backend LokyBackend with 4 concurrent workers.\n",
      "[Parallel(n_jobs=-1)]: Done  48 tasks      | elapsed:    2.7s\n",
      "[Parallel(n_jobs=-1)]: Done 2260 tasks      | elapsed:   11.2s\n",
      "[Parallel(n_jobs=-1)]: Done 2500 out of 2500 | elapsed:   12.1s finished\n",
      "[Parallel(n_jobs=-1)]: Using backend LokyBackend with 4 concurrent workers.\n"
     ]
    },
    {
     "name": "stdout",
     "output_type": "stream",
     "text": [
      "0.8153865847414234\n",
      "Fitting 10 folds for each of 28 candidates, totalling 280 fits\n"
     ]
    },
    {
     "name": "stderr",
     "output_type": "stream",
     "text": [
      "[Parallel(n_jobs=-1)]: Done 128 tasks      | elapsed:    2.2s\n",
      "[Parallel(n_jobs=-1)]: Done 280 out of 280 | elapsed:    5.7s finished\n",
      "[Parallel(n_jobs=-1)]: Using backend LokyBackend with 4 concurrent workers.\n"
     ]
    },
    {
     "name": "stdout",
     "output_type": "stream",
     "text": [
      "0.808858166922683\n",
      "Fitting 10 folds for each of 192 candidates, totalling 1920 fits\n"
     ]
    },
    {
     "name": "stderr",
     "output_type": "stream",
     "text": [
      "[Parallel(n_jobs=-1)]: Done  42 tasks      | elapsed:    5.2s\n",
      "[Parallel(n_jobs=-1)]: Done 192 tasks      | elapsed:   19.5s\n",
      "[Parallel(n_jobs=-1)]: Done 442 tasks      | elapsed:   41.7s\n",
      "[Parallel(n_jobs=-1)]: Done 792 tasks      | elapsed:  1.3min\n",
      "[Parallel(n_jobs=-1)]: Done 1242 tasks      | elapsed:  2.0min\n",
      "[Parallel(n_jobs=-1)]: Done 1792 tasks      | elapsed:  2.9min\n",
      "[Parallel(n_jobs=-1)]: Done 1920 out of 1920 | elapsed:  3.2min finished\n"
     ]
    },
    {
     "name": "stdout",
     "output_type": "stream",
     "text": [
      "0.8362007168458779\n",
      "Fitting 10 folds for each of 14 candidates, totalling 140 fits\n"
     ]
    },
    {
     "name": "stderr",
     "output_type": "stream",
     "text": [
      "[Parallel(n_jobs=-1)]: Using backend LokyBackend with 4 concurrent workers.\n",
      "[Parallel(n_jobs=-1)]: Done 123 tasks      | elapsed:    1.3s\n",
      "[Parallel(n_jobs=-1)]: Done 140 out of 140 | elapsed:    1.6s finished\n",
      "[Parallel(n_jobs=-1)]: Using backend LokyBackend with 4 concurrent workers.\n"
     ]
    },
    {
     "name": "stdout",
     "output_type": "stream",
     "text": [
      "0.685253456221198\n",
      "Fitting 10 folds for each of 40 candidates, totalling 400 fits\n"
     ]
    },
    {
     "name": "stderr",
     "output_type": "stream",
     "text": [
      "[Parallel(n_jobs=-1)]: Done 200 tasks      | elapsed:    1.3s\n"
     ]
    },
    {
     "name": "stdout",
     "output_type": "stream",
     "text": [
      "0.7911418330773169\n"
     ]
    },
    {
     "name": "stderr",
     "output_type": "stream",
     "text": [
      "[Parallel(n_jobs=-1)]: Done 400 out of 400 | elapsed:    2.4s finished\n"
     ]
    }
   ],
   "source": [
    "cv_result = []\n",
    "best_estimators = []\n",
    "for i in range(len(classifier)):\n",
    "    clf = GridSearchCV(classifier[i], param_grid=classifier_param[i], cv = StratifiedKFold(n_splits = 10), scoring = \"accuracy\", n_jobs = -1,verbose = 1)\n",
    "    clf.fit(X_train,y_train)\n",
    "    cv_result.append(clf.best_score_)\n",
    "    best_estimators.append(clf.best_estimator_)\n",
    "    print(cv_result[i])"
   ]
  },
  {
   "cell_type": "code",
   "execution_count": 56,
   "metadata": {
    "execution": {
     "iopub.execute_input": "2021-08-15T05:42:02.358333Z",
     "iopub.status.busy": "2021-08-15T05:42:02.357708Z",
     "iopub.status.idle": "2021-08-15T05:42:02.585545Z",
     "shell.execute_reply": "2021-08-15T05:42:02.584405Z",
     "shell.execute_reply.started": "2021-08-15T05:42:02.358292Z"
    }
   },
   "outputs": [
    {
     "data": {
      "text/plain": [
       "Text(0.5, 1.0, 'Cross Validation Scores')"
      ]
     },
     "execution_count": 56,
     "metadata": {},
     "output_type": "execute_result"
    },
    {
     "data": {
      "image/png": "[encoded data removed]",
      "text/plain": [
       "<Figure size 432x288 with 1 Axes>"
      ]
     },
     "metadata": {},
     "output_type": "display_data"
    }
   ],
   "source": [
    "cv_results = pd.DataFrame({\"Cross Validation Means\":cv_result, \"ML Models\":[\"DecisionTreeClassifier\", \"SVM\",\"RandomForestClassifier\",\n",
    "             \"LogisticRegression\",\n",
    "             \"KNeighborsClassifier\"]})\n",
    "\n",
    "g = sns.barplot(\"Cross Validation Means\", \"ML Models\", data = cv_results)\n",
    "g.set_xlabel(\"Mean Accuracy\")\n",
    "g.set_title(\"Cross Validation Scores\")"
   ]
  },
  {
   "cell_type": "code",
   "execution_count": 64,
   "metadata": {
    "execution": {
     "iopub.execute_input": "2021-08-15T05:49:39.886425Z",
     "iopub.status.busy": "2021-08-15T05:49:39.885806Z",
     "iopub.status.idle": "2021-08-15T05:49:39.890529Z",
     "shell.execute_reply": "2021-08-15T05:49:39.889339Z",
     "shell.execute_reply.started": "2021-08-15T05:49:39.886388Z"
    }
   },
   "outputs": [],
   "source": [
    "# votingC = VotingClassifier(estimators = [(\"dt\",best_estimators[0]),\n",
    "#                                         (\"rfc\",best_estimators[2]),\n",
    "#                                         (\"lr\",best_estimators[3])],\n",
    "#                                         voting = \"soft\", n_jobs = -1)\n",
    "# votingC = votingC.fit(X_train, y_train)\n",
    "# print(accuracy_score(votingC.predict(X_test),y_test))"
   ]
  },
  {
   "cell_type": "code",
   "execution_count": 65,
   "metadata": {
    "execution": {
     "iopub.execute_input": "2021-08-15T05:49:41.197970Z",
     "iopub.status.busy": "2021-08-15T05:49:41.197572Z",
     "iopub.status.idle": "2021-08-15T05:49:41.960665Z",
     "shell.execute_reply": "2021-08-15T05:49:41.959475Z",
     "shell.execute_reply.started": "2021-08-15T05:49:41.197931Z"
    }
   },
   "outputs": [
    {
     "name": "stdout",
     "output_type": "stream",
     "text": [
      "0.832089552238806\n"
     ]
    }
   ],
   "source": [
    "votingC = VotingClassifier(estimators = [(\"dt\",best_estimators[0]),\n",
    "                                        (\"svm\",best_estimators[1]),\n",
    "                                        (\"rfc\",best_estimators[2])],\n",
    "                                        voting = \"hard\", n_jobs = -1)\n",
    "votingC = votingC.fit(X_train, y_train)\n",
    "print(accuracy_score(votingC.predict(X_test),y_test))"
   ]
  },
  {
   "cell_type": "code",
   "execution_count": 67,
   "metadata": {
    "execution": {
     "iopub.execute_input": "2021-08-15T05:49:48.762723Z",
     "iopub.status.busy": "2021-08-15T05:49:48.762312Z",
     "iopub.status.idle": "2021-08-15T05:49:48.839942Z",
     "shell.execute_reply": "2021-08-15T05:49:48.838920Z",
     "shell.execute_reply.started": "2021-08-15T05:49:48.762688Z"
    }
   },
   "outputs": [],
   "source": [
    "test_survived = pd.Series(votingC.predict(test), name = \"Survived\").astype(int)\n",
    "results = pd.concat([test_passengerId, test_survived],axis = 1)\n",
    "results.to_csv(\"submission.csv\", index = False)"
   ]
  },
  {
   "cell_type": "markdown",
   "metadata": {
    "execution": {
     "iopub.execute_input": "2021-08-15T07:47:29.480966Z",
     "iopub.status.busy": "2021-08-15T07:47:29.480416Z",
     "iopub.status.idle": "2021-08-15T07:47:29.486304Z",
     "shell.execute_reply": "2021-08-15T07:47:29.485232Z",
     "shell.execute_reply.started": "2021-08-15T07:47:29.480915Z"
    }
   },
   "source": [
    "# Classification with Neural Network"
   ]
  },
  {
   "cell_type": "code",
   "execution_count": 53,
   "metadata": {
    "execution": {
     "iopub.execute_input": "2021-08-15T11:10:18.641517Z",
     "iopub.status.busy": "2021-08-15T11:10:18.641012Z",
     "iopub.status.idle": "2021-08-15T11:10:18.648272Z",
     "shell.execute_reply": "2021-08-15T11:10:18.647489Z",
     "shell.execute_reply.started": "2021-08-15T11:10:18.641474Z"
    }
   },
   "outputs": [],
   "source": [
    "def build_model():\n",
    "    '''\n",
    "    Build neural network for classification\n",
    "    Output:\n",
    "    model: neural network model\n",
    "    '''\n",
    "\n",
    "    model = Sequential([\n",
    "        Input(shape=(X_train.shape[1])),\n",
    "        Dense(32, activation='relu'),\n",
    "        Dropout(0.3),\n",
    "        BatchNormalization(),\n",
    "        \n",
    "        Dense(16, activation='relu'),\n",
    "        Dropout(0.3),\n",
    "        BatchNormalization(),\n",
    "        \n",
    "        Dense(5, activation='relu'),\n",
    "        BatchNormalization(),\n",
    "        \n",
    "        Dense(1, activation=\"sigmoid\")\n",
    "    ])\n",
    "    return model"
   ]
  },
  {
   "cell_type": "code",
   "execution_count": 54,
   "metadata": {
    "execution": {
     "iopub.execute_input": "2021-08-15T11:10:18.920875Z",
     "iopub.status.busy": "2021-08-15T11:10:18.920335Z",
     "iopub.status.idle": "2021-08-15T11:10:18.925811Z",
     "shell.execute_reply": "2021-08-15T11:10:18.925122Z",
     "shell.execute_reply.started": "2021-08-15T11:10:18.920829Z"
    }
   },
   "outputs": [],
   "source": [
    "def evaluate_model(model, X_valid, y_valid):\n",
    "    '''\n",
    "    Evaluate the performance using validation data and display the results\n",
    "    Input:\n",
    "        model: classification model\n",
    "        X_valid: features for validation data\n",
    "        y_valid: targets for validation data\n",
    "    '''\n",
    "    y_pred = model.predict_classes(X_valid)\n",
    "    acc_score = accuracy_score(y_valid, y_pred)\n",
    "    print(\"Accuracy Score:\", acc_score)\n",
    "    print(\"Classification Report:\")\n",
    "    print(classification_report(y_valid, y_pred))"
   ]
  },
  {
   "cell_type": "code",
   "execution_count": 55,
   "metadata": {
    "execution": {
     "iopub.execute_input": "2021-08-15T11:10:19.105139Z",
     "iopub.status.busy": "2021-08-15T11:10:19.104719Z",
     "iopub.status.idle": "2021-08-15T11:10:19.112021Z",
     "shell.execute_reply": "2021-08-15T11:10:19.110859Z",
     "shell.execute_reply.started": "2021-08-15T11:10:19.105102Z"
    }
   },
   "outputs": [],
   "source": [
    "def evaluate_and_save_submission(model, test_data):\n",
    "    '''\n",
    "    Evaluate the performance and save the submission file\n",
    "    Input:\n",
    "        model: classification model\n",
    "        test_data: submission test data\n",
    "    Output:\n",
    "        y_pred: prediction result\n",
    "    '''\n",
    "    y_pred = pd.Series(list(model.predict_classes(test_data)), name = \"Survived\").astype(int)\n",
    "    results = pd.concat([test_passengerId, y_pred],axis = 1)\n",
    "    \n",
    "    results.to_csv(\"submission.csv\", index = False)"
   ]
  },
  {
   "cell_type": "code",
   "execution_count": 56,
   "metadata": {
    "execution": {
     "iopub.execute_input": "2021-08-15T11:10:19.352642Z",
     "iopub.status.busy": "2021-08-15T11:10:19.352282Z",
     "iopub.status.idle": "2021-08-15T11:10:19.359114Z",
     "shell.execute_reply": "2021-08-15T11:10:19.358085Z",
     "shell.execute_reply.started": "2021-08-15T11:10:19.352611Z"
    }
   },
   "outputs": [
    {
     "data": {
      "text/plain": [
       "((268, 55), (268,))"
      ]
     },
     "execution_count": 56,
     "metadata": {},
     "output_type": "execute_result"
    }
   ],
   "source": [
    "X_valid.shape, y_valid.shape"
   ]
  },
  {
   "cell_type": "code",
   "execution_count": 57,
   "metadata": {
    "execution": {
     "iopub.execute_input": "2021-08-15T11:10:19.571799Z",
     "iopub.status.busy": "2021-08-15T11:10:19.571406Z",
     "iopub.status.idle": "2021-08-15T11:10:19.945380Z",
     "shell.execute_reply": "2021-08-15T11:10:19.944638Z",
     "shell.execute_reply.started": "2021-08-15T11:10:19.571768Z"
    }
   },
   "outputs": [
    {
     "name": "stdout",
     "output_type": "stream",
     "text": [
      "Model: \"sequential\"\n",
      "_________________________________________________________________\n",
      "Layer (type)                 Output Shape              Param #   \n",
      "=================================================================\n",
      "dense (Dense)                (None, 32)                1792      \n",
      "_________________________________________________________________\n",
      "dropout (Dropout)            (None, 32)                0         \n",
      "_________________________________________________________________\n",
      "batch_normalization (BatchNo (None, 32)                128       \n",
      "_________________________________________________________________\n",
      "dense_1 (Dense)              (None, 16)                528       \n",
      "_________________________________________________________________\n",
      "dropout_1 (Dropout)          (None, 16)                0         \n",
      "_________________________________________________________________\n",
      "batch_normalization_1 (Batch (None, 16)                64        \n",
      "_________________________________________________________________\n",
      "dense_2 (Dense)              (None, 5)                 85        \n",
      "_________________________________________________________________\n",
      "batch_normalization_2 (Batch (None, 5)                 20        \n",
      "_________________________________________________________________\n",
      "dense_3 (Dense)              (None, 1)                 6         \n",
      "=================================================================\n",
      "Total params: 2,623\n",
      "Trainable params: 2,517\n",
      "Non-trainable params: 106\n",
      "_________________________________________________________________\n"
     ]
    }
   ],
   "source": [
    "model = build_model()\n",
    "model.summary()"
   ]
  },
  {
   "cell_type": "code",
   "execution_count": 65,
   "metadata": {
    "execution": {
     "iopub.execute_input": "2021-08-15T11:11:56.095197Z",
     "iopub.status.busy": "2021-08-15T11:11:56.094835Z",
     "iopub.status.idle": "2021-08-15T11:11:56.110537Z",
     "shell.execute_reply": "2021-08-15T11:11:56.109434Z",
     "shell.execute_reply.started": "2021-08-15T11:11:56.095166Z"
    }
   },
   "outputs": [],
   "source": [
    "adam = optimizers.Adam(lr = 0.0001)\n",
    "model.compile(loss=\"binary_crossentropy\", optimizer=adam, metrics=[\"accuracy\"])\n",
    "early_stop = callbacks.EarlyStopping(patience=20)"
   ]
  },
  {
   "cell_type": "code",
   "execution_count": 78,
   "metadata": {
    "execution": {
     "iopub.execute_input": "2021-08-15T11:13:34.316457Z",
     "iopub.status.busy": "2021-08-15T11:13:34.316092Z",
     "iopub.status.idle": "2021-08-15T11:13:37.795342Z",
     "shell.execute_reply": "2021-08-15T11:13:37.794315Z",
     "shell.execute_reply.started": "2021-08-15T11:13:34.316427Z"
    }
   },
   "outputs": [
    {
     "name": "stdout",
     "output_type": "stream",
     "text": [
      "Epoch 1/500\n",
      "10/10 [==============================] - 0s 17ms/step - loss: 0.3809 - accuracy: 0.8491 - val_loss: 0.4042 - val_accuracy: 0.8246\n",
      "Epoch 2/500\n",
      "10/10 [==============================] - 0s 8ms/step - loss: 0.4031 - accuracy: 0.8299 - val_loss: 0.4057 - val_accuracy: 0.8246\n",
      "Epoch 3/500\n",
      "10/10 [==============================] - 0s 9ms/step - loss: 0.3845 - accuracy: 0.8363 - val_loss: 0.4067 - val_accuracy: 0.8172\n",
      "Epoch 4/500\n",
      "10/10 [==============================] - 0s 9ms/step - loss: 0.3982 - accuracy: 0.8331 - val_loss: 0.4074 - val_accuracy: 0.8172\n",
      "Epoch 5/500\n",
      "10/10 [==============================] - 0s 9ms/step - loss: 0.3773 - accuracy: 0.8427 - val_loss: 0.4060 - val_accuracy: 0.8172\n",
      "Epoch 6/500\n",
      "10/10 [==============================] - 0s 9ms/step - loss: 0.3906 - accuracy: 0.8331 - val_loss: 0.4052 - val_accuracy: 0.8246\n",
      "Epoch 7/500\n",
      "10/10 [==============================] - 0s 9ms/step - loss: 0.4033 - accuracy: 0.8186 - val_loss: 0.4054 - val_accuracy: 0.8209\n",
      "Epoch 8/500\n",
      "10/10 [==============================] - 0s 9ms/step - loss: 0.3901 - accuracy: 0.8283 - val_loss: 0.4058 - val_accuracy: 0.8209\n",
      "Epoch 9/500\n",
      "10/10 [==============================] - 0s 9ms/step - loss: 0.3958 - accuracy: 0.8315 - val_loss: 0.4066 - val_accuracy: 0.8172\n",
      "Epoch 10/500\n",
      "10/10 [==============================] - 0s 9ms/step - loss: 0.3792 - accuracy: 0.8347 - val_loss: 0.4074 - val_accuracy: 0.8134\n",
      "Epoch 11/500\n",
      "10/10 [==============================] - 0s 9ms/step - loss: 0.3927 - accuracy: 0.8315 - val_loss: 0.4078 - val_accuracy: 0.8134\n",
      "Epoch 12/500\n",
      "10/10 [==============================] - 0s 9ms/step - loss: 0.3933 - accuracy: 0.8411 - val_loss: 0.4088 - val_accuracy: 0.8172\n",
      "Epoch 13/500\n",
      "10/10 [==============================] - 0s 9ms/step - loss: 0.3899 - accuracy: 0.8491 - val_loss: 0.4090 - val_accuracy: 0.8172\n",
      "Epoch 14/500\n",
      "10/10 [==============================] - 0s 9ms/step - loss: 0.3989 - accuracy: 0.8299 - val_loss: 0.4072 - val_accuracy: 0.8172\n",
      "Epoch 15/500\n",
      "10/10 [==============================] - 0s 9ms/step - loss: 0.4059 - accuracy: 0.8250 - val_loss: 0.4059 - val_accuracy: 0.8209\n",
      "Epoch 16/500\n",
      "10/10 [==============================] - 0s 9ms/step - loss: 0.3916 - accuracy: 0.8347 - val_loss: 0.4052 - val_accuracy: 0.8246\n",
      "Epoch 17/500\n",
      "10/10 [==============================] - 0s 9ms/step - loss: 0.3927 - accuracy: 0.8250 - val_loss: 0.4051 - val_accuracy: 0.8246\n",
      "Epoch 18/500\n",
      "10/10 [==============================] - 0s 9ms/step - loss: 0.3923 - accuracy: 0.8315 - val_loss: 0.4040 - val_accuracy: 0.8246\n",
      "Epoch 19/500\n",
      "10/10 [==============================] - 0s 9ms/step - loss: 0.4017 - accuracy: 0.8331 - val_loss: 0.4036 - val_accuracy: 0.8284\n",
      "Epoch 20/500\n",
      "10/10 [==============================] - 0s 9ms/step - loss: 0.3754 - accuracy: 0.8475 - val_loss: 0.4055 - val_accuracy: 0.8172\n",
      "Epoch 21/500\n",
      "10/10 [==============================] - 0s 9ms/step - loss: 0.3830 - accuracy: 0.8379 - val_loss: 0.4076 - val_accuracy: 0.8209\n",
      "Epoch 22/500\n",
      "10/10 [==============================] - 0s 9ms/step - loss: 0.3893 - accuracy: 0.8331 - val_loss: 0.4083 - val_accuracy: 0.8172\n",
      "Epoch 23/500\n",
      "10/10 [==============================] - 0s 9ms/step - loss: 0.4133 - accuracy: 0.8234 - val_loss: 0.4081 - val_accuracy: 0.8172\n",
      "Epoch 24/500\n",
      "10/10 [==============================] - 0s 9ms/step - loss: 0.3973 - accuracy: 0.8283 - val_loss: 0.4070 - val_accuracy: 0.8209\n",
      "Epoch 25/500\n",
      "10/10 [==============================] - 0s 9ms/step - loss: 0.3993 - accuracy: 0.8154 - val_loss: 0.4063 - val_accuracy: 0.8284\n",
      "Epoch 26/500\n",
      "10/10 [==============================] - 0s 9ms/step - loss: 0.3854 - accuracy: 0.8427 - val_loss: 0.4055 - val_accuracy: 0.8284\n",
      "Epoch 27/500\n",
      "10/10 [==============================] - 0s 9ms/step - loss: 0.3925 - accuracy: 0.8459 - val_loss: 0.4053 - val_accuracy: 0.8284\n",
      "Epoch 28/500\n",
      "10/10 [==============================] - 0s 9ms/step - loss: 0.3766 - accuracy: 0.8427 - val_loss: 0.4052 - val_accuracy: 0.8284\n",
      "Epoch 29/500\n",
      "10/10 [==============================] - 0s 9ms/step - loss: 0.3759 - accuracy: 0.8266 - val_loss: 0.4057 - val_accuracy: 0.8284\n",
      "Epoch 30/500\n",
      "10/10 [==============================] - 0s 9ms/step - loss: 0.3837 - accuracy: 0.8331 - val_loss: 0.4058 - val_accuracy: 0.8209\n",
      "Epoch 31/500\n",
      "10/10 [==============================] - 0s 9ms/step - loss: 0.3866 - accuracy: 0.8411 - val_loss: 0.4057 - val_accuracy: 0.8209\n",
      "Epoch 32/500\n",
      "10/10 [==============================] - 0s 9ms/step - loss: 0.3889 - accuracy: 0.8379 - val_loss: 0.4051 - val_accuracy: 0.8284\n",
      "Epoch 33/500\n",
      "10/10 [==============================] - 0s 9ms/step - loss: 0.4110 - accuracy: 0.8202 - val_loss: 0.4052 - val_accuracy: 0.8284\n",
      "Epoch 34/500\n",
      "10/10 [==============================] - 0s 9ms/step - loss: 0.3800 - accuracy: 0.8395 - val_loss: 0.4052 - val_accuracy: 0.8246\n",
      "Epoch 35/500\n",
      "10/10 [==============================] - 0s 9ms/step - loss: 0.3885 - accuracy: 0.8379 - val_loss: 0.4061 - val_accuracy: 0.8209\n",
      "Epoch 36/500\n",
      "10/10 [==============================] - 0s 9ms/step - loss: 0.4004 - accuracy: 0.8266 - val_loss: 0.4055 - val_accuracy: 0.8284\n",
      "Epoch 37/500\n",
      "10/10 [==============================] - 0s 9ms/step - loss: 0.3975 - accuracy: 0.8299 - val_loss: 0.4063 - val_accuracy: 0.8246\n",
      "Epoch 38/500\n",
      "10/10 [==============================] - 0s 9ms/step - loss: 0.3974 - accuracy: 0.8202 - val_loss: 0.4055 - val_accuracy: 0.8246\n",
      "Epoch 39/500\n",
      "10/10 [==============================] - 0s 9ms/step - loss: 0.3594 - accuracy: 0.8587 - val_loss: 0.4052 - val_accuracy: 0.8209\n"
     ]
    }
   ],
   "source": [
    "history = model.fit(\n",
    "    X_train, y_train,\n",
    "    batch_size = 64,\n",
    "    epochs=400, validation_data=(X_valid, y_valid), \n",
    "    callbacks=[early_stop],\n",
    "    verbose=1\n",
    ")"
   ]
  },
  {
   "cell_type": "code",
   "execution_count": 79,
   "metadata": {
    "execution": {
     "iopub.execute_input": "2021-08-15T11:13:47.342389Z",
     "iopub.status.busy": "2021-08-15T11:13:47.341914Z",
     "iopub.status.idle": "2021-08-15T11:13:47.566299Z",
     "shell.execute_reply": "2021-08-15T11:13:47.565591Z",
     "shell.execute_reply.started": "2021-08-15T11:13:47.342358Z"
    }
   },
   "outputs": [
    {
     "data": {
      "text/plain": [
       "<AxesSubplot:>"
      ]
     },
     "execution_count": 79,
     "metadata": {},
     "output_type": "execute_result"
    },
    {
     "data": {
      "image/png": "[encoded data removed]",
      "text/plain": [
       "<Figure size 720x360 with 1 Axes>"
      ]
     },
     "metadata": {},
     "output_type": "display_data"
    }
   ],
   "source": [
    "df_plot = pd.DataFrame(history.history)\n",
    "df_plot.plot(figsize=(10,5))"
   ]
  },
  {
   "cell_type": "code",
   "execution_count": 80,
   "metadata": {
    "execution": {
     "iopub.execute_input": "2021-08-15T11:13:48.675401Z",
     "iopub.status.busy": "2021-08-15T11:13:48.674798Z",
     "iopub.status.idle": "2021-08-15T11:13:48.741596Z",
     "shell.execute_reply": "2021-08-15T11:13:48.740699Z",
     "shell.execute_reply.started": "2021-08-15T11:13:48.675366Z"
    }
   },
   "outputs": [
    {
     "name": "stdout",
     "output_type": "stream",
     "text": [
      "Accuracy Score: 0.8208955223880597\n",
      "Classification Report:\n",
      "              precision    recall  f1-score   support\n",
      "\n",
      "         0.0       0.80      0.92      0.86       157\n",
      "         1.0       0.85      0.68      0.76       111\n",
      "\n",
      "    accuracy                           0.82       268\n",
      "   macro avg       0.83      0.80      0.81       268\n",
      "weighted avg       0.82      0.82      0.82       268\n",
      "\n"
     ]
    }
   ],
   "source": [
    "evaluate_model(model, X_valid, y_valid)"
   ]
  },
  {
   "cell_type": "code",
   "execution_count": 81,
   "metadata": {
    "execution": {
     "iopub.execute_input": "2021-08-15T11:13:54.759381Z",
     "iopub.status.busy": "2021-08-15T11:13:54.759023Z",
     "iopub.status.idle": "2021-08-15T11:13:54.830498Z",
     "shell.execute_reply": "2021-08-15T11:13:54.829600Z",
     "shell.execute_reply.started": "2021-08-15T11:13:54.759351Z"
    }
   },
   "outputs": [],
   "source": [
    "evaluate_and_save_submission(model, test)"
   ]
  },
  {
   "cell_type": "code",
   "execution_count": null,
   "metadata": {},
   "outputs": [],
   "source": []
  }
 ],
 "metadata": {
  "kernelspec": {
   "display_name": "Python 3",
   "language": "python",
   "name": "python3"
  },
  "language_info": {
   "codemirror_mode": {
    "name": "ipython",
    "version": 3
   },
   "file_extension": ".py",
   "mimetype": "text/x-python",
   "name": "python",
   "nbconvert_exporter": "python",
   "pygments_lexer": "ipython3",
   "version": "3.8.3"
  }
 },
 "nbformat": 4,
 "nbformat_minor": 4
}
